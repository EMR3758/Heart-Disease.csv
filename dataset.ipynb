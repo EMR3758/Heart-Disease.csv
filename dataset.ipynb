{
 "cells": [
  {
   "cell_type": "markdown",
   "metadata": {},
   "source": [
    "## Heart Disease Dataset"
   ]
  },
  {
   "cell_type": "markdown",
   "metadata": {},
   "source": [
    "Importing libraries"
   ]
  },
  {
   "cell_type": "code",
   "execution_count": 1,
   "metadata": {},
   "outputs": [],
   "source": [
    "import pandas as pd\n",
    "import numpy as np\n",
    "import matplotlib.pyplot as plt\n",
    "from sklearn.model_selection import train_test_split"
   ]
  },
  {
   "cell_type": "markdown",
   "metadata": {},
   "source": [
    "1.Load the dataset"
   ]
  },
  {
   "cell_type": "code",
   "execution_count": 2,
   "metadata": {},
   "outputs": [],
   "source": [
    "df = pd.read_csv(\"/Users/emirhanozcan/Desktop/Makine Öğrenmesi/Heart-Disease-Dataset/heart.csv\")"
   ]
  },
  {
   "cell_type": "markdown",
   "metadata": {},
   "source": [
    "2.Separating independent variables (X) and dependent variables (y)"
   ]
  },
  {
   "cell_type": "code",
   "execution_count": 3,
   "metadata": {},
   "outputs": [],
   "source": [
    "X = df.iloc[:,:-1].values \n",
    "y= df.iloc[:,-1].values"
   ]
  },
  {
   "cell_type": "code",
   "execution_count": 4,
   "metadata": {},
   "outputs": [
    {
     "data": {
      "image/png": "[encoded data removed]",
      "text/plain": [
       "<Figure size 640x480 with 1 Axes>"
      ]
     },
     "metadata": {},
     "output_type": "display_data"
    }
   ],
   "source": [
    "import seaborn as sns\n",
    "sns.countplot(x=df[\"target\"])\n",
    "plt.xlabel(\"Heart Disease (0: No, 1: Yes)\")\n",
    "plt.ylabel(\"Number of patients\")\n",
    "plt.title(\"Heart Disease Distribution\")\n",
    "plt.show()"
   ]
  },
  {
   "cell_type": "markdown",
   "metadata": {},
   "source": [
    "3.Filling in missing data (with SimpleImputer)\n",
    "\n"
   ]
  },
  {
   "cell_type": "code",
   "execution_count": 5,
   "metadata": {},
   "outputs": [
    {
     "name": "stdout",
     "output_type": "stream",
     "text": [
      "First 10 rows of X after filling in missing data:\n",
      "       0    1    2      3      4    5    6      7    8    9    10   11   12\n",
      "757  66.0  1.0  0.0  160.0  228.0  0.0  0.0  138.0  0.0  2.3  2.0  0.0  1.0\n",
      "436  59.0  0.0  0.0  174.0  249.0  0.0  1.0  143.0  1.0  0.0  1.0  0.0  2.0\n",
      "255  62.0  0.0  0.0  140.0  394.0  0.0  0.0  157.0  0.0  1.2  1.0  0.0  2.0\n",
      "759  61.0  0.0  0.0  130.0  330.0  0.0  0.0  169.0  0.0  0.0  2.0  0.0  2.0\n",
      "463  43.0  1.0  0.0  110.0  211.0  0.0  1.0  161.0  0.0  0.0  2.0  0.0  3.0\n",
      "72   56.0  1.0  0.0  125.0  249.0  1.0  0.0  144.0  1.0  1.2  1.0  1.0  2.0\n",
      "194  67.0  1.0  0.0  160.0  286.0  0.0  0.0  108.0  1.0  1.5  1.0  3.0  2.0\n",
      "456  47.0  1.0  2.0  108.0  243.0  0.0  1.0  152.0  0.0  0.0  2.0  0.0  2.0\n",
      "38   64.0  1.0  0.0  128.0  263.0  0.0  1.0  105.0  1.0  0.2  1.0  1.0  3.0\n",
      "963  57.0  0.0  0.0  140.0  241.0  0.0  1.0  123.0  1.0  0.2  1.0  0.0  3.0\n",
      "\n",
      "Dependent variable (y) 10 values:\n",
      "[0 0 0 0 0 1 0 0 0 0]\n"
     ]
    }
   ],
   "source": [
    "from sklearn.impute import SimpleImputer\n",
    "imputer = SimpleImputer(missing_values=np.nan,strategy='mean')\n",
    "imputer.fit(X[:,1:])\n",
    "X[:,1:]=imputer.transform(X[:,1:])\n",
    "print(\"First 10 rows of X after filling in missing data:\")\n",
    "print(pd.DataFrame(X).sample(10))\n",
    "print(\"\\nDependent variable (y) 10 values:\")\n",
    "print(y[:10])"
   ]
  },
  {
   "cell_type": "markdown",
   "metadata": {},
   "source": [
    "4.Checking for missing data"
   ]
  },
  {
   "cell_type": "code",
   "execution_count": 6,
   "metadata": {},
   "outputs": [
    {
     "name": "stdout",
     "output_type": "stream",
     "text": [
      "\n",
      "Data control after filling\n",
      "age         0\n",
      "sex         0\n",
      "cp          0\n",
      "trestbps    0\n",
      "chol        0\n",
      "fbs         0\n",
      "restecg     0\n",
      "thalach     0\n",
      "exang       0\n",
      "oldpeak     0\n",
      "slope       0\n",
      "ca          0\n",
      "thal        0\n",
      "target      0\n",
      "dtype: int64\n"
     ]
    }
   ],
   "source": [
    "print(\"\\nData control after filling\")\n",
    "print(df.isnull().sum())"
   ]
  },
  {
   "cell_type": "markdown",
   "metadata": {},
   "source": [
    "5.Coding dependent and independent variables"
   ]
  },
  {
   "cell_type": "code",
   "execution_count": 7,
   "metadata": {},
   "outputs": [
    {
     "name": "stdout",
     "output_type": "stream",
     "text": [
      "[0 0 0 ... 0 1 0]\n"
     ]
    }
   ],
   "source": [
    "from sklearn.preprocessing import LabelEncoder\n",
    "le = LabelEncoder()\n",
    "y = le.fit_transform(y)\n",
    "print(y)"
   ]
  },
  {
   "cell_type": "markdown",
   "metadata": {},
   "source": [
    "6.Splitting the dataaset into the Training set and Test set"
   ]
  },
  {
   "cell_type": "code",
   "execution_count": 8,
   "metadata": {},
   "outputs": [
    {
     "name": "stdout",
     "output_type": "stream",
     "text": [
      "[[ 57.    1.    0.  132.  207.    0.    1.  168.    1.    0.    2.    0.\n",
      "    3. ]\n",
      " [ 59.    1.    3.  134.  204.    0.    1.  162.    0.    0.8   2.    2.\n",
      "    2. ]\n",
      " [ 62.    0.    0.  150.  244.    0.    1.  154.    1.    1.4   1.    0.\n",
      "    2. ]]\n",
      "[[ 60.    1.    0.  117.  230.    1.    1.  160.    1.    1.4   2.    2.\n",
      "    3. ]\n",
      " [ 51.    0.    2.  130.  256.    0.    0.  149.    0.    0.5   2.    0.\n",
      "    2. ]\n",
      " [ 42.    1.    1.  120.  295.    0.    1.  162.    0.    0.    2.    0.\n",
      "    2. ]]\n",
      "[1 0 0]\n",
      "[0 1 1]\n"
     ]
    }
   ],
   "source": [
    "from sklearn.model_selection import train_test_split\n",
    "X_train,X_test,y_train,y_test = train_test_split(X,y,test_size=0.2,random_state=1)\n",
    "print(X_train[:3])\n",
    "print(X_test[:3])\n",
    "print(y_train[:3])\n",
    "print(y_test[:3])"
   ]
  },
  {
   "cell_type": "markdown",
   "metadata": {},
   "source": [
    "7.Training the Simple Logistic Regression model on the Training set"
   ]
  },
  {
   "cell_type": "code",
   "execution_count": 9,
   "metadata": {},
   "outputs": [
    {
     "name": "stdout",
     "output_type": "stream",
     "text": [
      "Accuracy rate: 80.49%\n",
      "Confusion Matrix:\n",
      "[[80 29]\n",
      " [11 85]]\n"
     ]
    },
    {
     "name": "stderr",
     "output_type": "stream",
     "text": [
      "/Library/Frameworks/Python.framework/Versions/3.12/lib/python3.12/site-packages/sklearn/linear_model/_logistic.py:465: ConvergenceWarning: lbfgs failed to converge (status=1):\n",
      "STOP: TOTAL NO. OF ITERATIONS REACHED LIMIT.\n",
      "\n",
      "Increase the number of iterations (max_iter) or scale the data as shown in:\n",
      "    https://scikit-learn.org/stable/modules/preprocessing.html\n",
      "Please also refer to the documentation for alternative solver options:\n",
      "    https://scikit-learn.org/stable/modules/linear_model.html#logistic-regression\n",
      "  n_iter_i = _check_optimize_result(\n"
     ]
    }
   ],
   "source": [
    "from sklearn.linear_model import LogisticRegression\n",
    "from sklearn.metrics import accuracy_score,confusion_matrix\n",
    "model = LogisticRegression()\n",
    "model.fit(X_train,y_train)\n",
    "y_pred = model.predict(X_test)\n",
    "\n",
    "\n",
    "accuracy = accuracy_score(y_test,y_pred)\n",
    "print(f\"Accuracy rate: {accuracy * 100 :.2f}%\")\n",
    "conf_matrix = confusion_matrix(y_test,y_pred)\n",
    "print(\"Confusion Matrix:\")\n",
    "print(conf_matrix)"
   ]
  },
  {
   "cell_type": "markdown",
   "metadata": {},
   "source": [
    "8.Visualing the Training set results "
   ]
  },
  {
   "cell_type": "code",
   "execution_count": 10,
   "metadata": {},
   "outputs": [
    {
     "data": {
      "image/png": "[encoded data removed]",
      "text/plain": [
       "<Figure size 600x400 with 2 Axes>"
      ]
     },
     "metadata": {},
     "output_type": "display_data"
    }
   ],
   "source": [
    "import seaborn as sns\n",
    "import matplotlib.pyplot as plt\n",
    "from sklearn.metrics import confusion_matrix\n",
    "\n",
    "conf_matrix = confusion_matrix(y_test, y_pred)\n",
    "plt.figure(figsize=(6, 4))\n",
    "sns.heatmap(conf_matrix, annot=True, fmt='d', cmap='Blues', xticklabels=['No Disease', 'Disease'], yticklabels=['No Disease', 'Disease'])\n",
    "plt.title('Confusion Matrix')\n",
    "plt.xlabel('Predicted')\n",
    "plt.ylabel('True')\n",
    "plt.show()\n",
    "\n"
   ]
  }
 ],
 "metadata": {
  "kernelspec": {
   "display_name": "Python 3",
   "language": "python",
   "name": "python3"
  },
  "language_info": {
   "codemirror_mode": {
    "name": "ipython",
    "version": 3
   },
   "file_extension": ".py",
   "mimetype": "text/x-python",
   "name": "python",
   "nbconvert_exporter": "python",
   "pygments_lexer": "ipython3",
   "version": "3.12.3"
  }
 },
 "nbformat": 4,
 "nbformat_minor": 2
}
